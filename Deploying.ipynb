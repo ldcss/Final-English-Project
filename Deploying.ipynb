{
  "nbformat": 4,
  "nbformat_minor": 0,
  "metadata": {
    "colab": {
      "provenance": [],
      "collapsed_sections": [],
      "include_colab_link": true
    },
    "kernelspec": {
      "name": "python3",
      "display_name": "Python 3"
    },
    "language_info": {
      "name": "python"
    }
  },
  "cells": [
    {
      "cell_type": "markdown",
      "metadata": {
        "id": "view-in-github",
        "colab_type": "text"
      },
      "source": [
        "<a href=\"https://colab.research.google.com/github/ldcss/Final-English-Project/blob/main/Deploying.ipynb\" target=\"_parent\"><img src=\"https://colab.research.google.com/assets/colab-badge.svg\" alt=\"Open In Colab\"/></a>"
      ]
    },
    {
      "cell_type": "markdown",
      "source": [
        "## My final project: a dog-type classifier!\n",
        "### Choose between bulldogs, labradors and pitbulls, and let the classifier tell you how race your dog belongs."
      ],
      "metadata": {
        "id": "MNuc1fldPNQQ"
      }
    },
    {
      "cell_type": "code",
      "execution_count": null,
      "metadata": {
        "id": "yxi_mlhdHuiC"
      },
      "outputs": [],
      "source": [
        "#importing fastai\n",
        "from fastai.vision.all import *\n",
        "from fastai.vision.widgets import *"
      ]
    },
    {
      "cell_type": "markdown",
      "source": [
        "## Importing the model & creating some widgets (button to upload, showing the image and creating a legend to our predict)"
      ],
      "metadata": {
        "id": "P2G8dSsBQAsU"
      }
    },
    {
      "cell_type": "code",
      "source": [
        "#import our model (the pkl file), creating button and some widgets (the photo uplodaded and the text)\n",
        "path = Path()\n",
        "learn_inf = load_learner(path/'export.pkl', cpu=True)\n",
        "btn_upload = widgets.FileUpload()\n",
        "out_pl = widgets.Output()\n",
        "lbl_pred = widgets.Label()"
      ],
      "metadata": {
        "id": "W26l4DkTIGYa"
      },
      "execution_count": null,
      "outputs": []
    },
    {
      "cell_type": "code",
      "source": [
        "#function that uses the pkl file to classify the image\n",
        "def on_data_change(change):\n",
        "    lbl_pred.value = ''\n",
        "    img = PILImage.create(btn_upload.data[-1])\n",
        "    out_pl.clear_output()\n",
        "    with out_pl: display(img.to_thumb(128,128))\n",
        "    pred,pred_idx,probs = learn_inf.predict(img)\n",
        "    lbl_pred.value = f'Prediction: {pred}; Probability: {probs[pred_idx]:.04f}'"
      ],
      "metadata": {
        "id": "b0mHL7zsIJIS"
      },
      "execution_count": null,
      "outputs": []
    },
    {
      "cell_type": "code",
      "source": [
        "btn_upload.observe(on_data_change, names=['data'])"
      ],
      "metadata": {
        "id": "E9LjCxqEIOy7"
      },
      "execution_count": null,
      "outputs": []
    },
    {
      "cell_type": "code",
      "source": [
        "display(VBox([widgets.Label('Select your dog-type between bulldogs, labradors and pitbulls!'), btn_upload, out_pl, lbl_pred]))"
      ],
      "metadata": {
        "id": "Ce_qRtaQIQ8A"
      },
      "execution_count": null,
      "outputs": []
    }
  ]
}